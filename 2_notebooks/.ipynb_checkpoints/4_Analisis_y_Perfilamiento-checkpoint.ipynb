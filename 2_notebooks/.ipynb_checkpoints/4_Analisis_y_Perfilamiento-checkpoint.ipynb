{
 "cells": [
  {
   "cell_type": "code",
   "execution_count": null,
   "id": "a78f0bc9-6d96-4758-b15b-f45f5c2f2fcb",
   "metadata": {},
   "outputs": [],
   "source": [
    "# --- Celda 1 Modificada ---\n",
    "import pandas as pd\n",
    "import geopandas as gpd\n",
    "import os\n",
    "from sqlalchemy import create_engine\n",
    "from langchain_openai import ChatOpenAI\n",
    "from langchain_anthropic import ChatAnthropic \n",
    "from langchain.agents import create_sql_agent\n",
    "from langchain_community.utilities import SQLDatabase\n",
    "\n",
    "print(\"Librerías para la Fase 3 (OpenAI y Anthropic) importadas.\")"
   ]
  },
  {
   "cell_type": "code",
   "execution_count": null,
   "id": "2b978cb3-f7cc-490a-ab02-bd3026fecb58",
   "metadata": {},
   "outputs": [],
   "source": [
    "# Cargar nuestro GeoDataFrame enriquecido\n",
    "RUTA_DATOS_PROCESADOS = os.path.join('..', '1_datos', '02_procesados')\n",
    "RUTA_GPKG_ENRIQUECIDO = os.path.join(RUTA_DATOS_PROCESADOS, 'gdf_maestro_enriquecido.gpkg')\n",
    "gdf = gpd.read_file(RUTA_GPKG_ENRIQUECIDO)\n",
    "\n",
    "# Para el análisis Text-to-SQL, la columna de geometría no es útil y puede dar problemas.\n",
    "# La quitamos para crear una tabla puramente de datos.\n",
    "df_analisis = gdf.drop(columns=['geometry', 'GEOMETRY1_']) # Quitamos ambas por si acaso\n",
    "\n",
    "# Crear una base de datos SQLite en memoria\n",
    "engine = create_engine('sqlite:///:memory:')\n",
    "\n",
    "# Cargar nuestros datos en una tabla llamada 'secciones' dentro de esa base de datos\n",
    "df_analisis.to_sql('secciones', engine, index=False)\n",
    "\n",
    "# Crear el objeto de base de datos que LangChain usará\n",
    "db = SQLDatabase(engine=engine)\n",
    "\n",
    "print(\"Base de datos en memoria creada y cargada con 65 secciones de Manzanillo.\")\n",
    "print(\"Tabla 'secciones' lista para ser consultada.\")"
   ]
  }
 ],
 "metadata": {
  "kernelspec": {
   "display_name": "Python (geo_env)",
   "language": "python",
   "name": "geo_env"
  },
  "language_info": {
   "codemirror_mode": {
    "name": "ipython",
    "version": 3
   },
   "file_extension": ".py",
   "mimetype": "text/x-python",
   "name": "python",
   "nbconvert_exporter": "python",
   "pygments_lexer": "ipython3",
   "version": "3.13.5"
  }
 },
 "nbformat": 4,
 "nbformat_minor": 5
}
