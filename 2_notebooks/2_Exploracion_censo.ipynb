{
 "cells": [
  {
   "cell_type": "code",
   "execution_count": 1,
   "id": "9e4daff5-a506-4359-a7ad-5c3dcb090c54",
   "metadata": {},
   "outputs": [
    {
     "name": "stdout",
     "output_type": "stream",
     "text": [
      "--- LISTA COMPLETA DE COLUMNAS DISPONIBLES EN TUS DATOS ---\n",
      "['ID', 'ENTIDAD', 'DISTRITO_F', 'DISTRITO_L', 'MUNICIPIO', 'seccion', 'TIPO', 'CONTROL', 'GEOMETRY1_', 'lista_nominal_promedio', 'votos_totales_acumulados', 'votos_morena_acumulados', 'votos_oposicion_acumulados', 'partido_dominante', 'pct_voto_morena', 'tasa_participacion_promedio', 'DISTRITO', 'POBTOT', 'POBFEM', 'POBMAS', 'P_0A2', 'P_0A2_F', 'P_0A2_M', 'P_0A17', 'P_3YMAS', 'P_3YMAS_F', 'P_3YMAS_M', 'P_5YMAS', 'P_5YMAS_F', 'P_5YMAS_M', 'P_12YMAS', 'P_12YMAS_F', 'P_12YMAS_M', 'P_15YMAS', 'P_15YMAS_F', 'P_15YMAS_M', 'P_18YMAS', 'P_18YMAS_F', 'P_18YMAS_M', 'P_3A5', 'P_3A5_F', 'P_3A5_M', 'P_6A11', 'P_6A11_F', 'P_6A11_M', 'P_8A14', 'P_8A14_F', 'P_8A14_M', 'P_12A14', 'P_12A14_F', 'P_12A14_M', 'P_15A17', 'P_15A17_F', 'P_15A17_M', 'P_18A24', 'P_18A24_F', 'P_18A24_M', 'P_15A49_F', 'P_60YMAS', 'P_60YMAS_F', 'P_60YMAS_M', 'REL_H_M', 'POB0_14', 'POB15_64', 'POB65_MAS', 'POB_EDADNE', 'PROM_HNV', 'PNACENT', 'PNACENT_F', 'PNACENT_M', 'PNACOE', 'PNACOE_F', 'PNACOE_M', 'PRES2015', 'PRES2015_F', 'PRES2015_M', 'PRESOE15', 'PRESOE15_F', 'PRESOE15_M', 'P3YM_HLI', 'P3YM_HLI_F', 'P3YM_HLI_M', 'P3HLINHE', 'P3HLINHE_F', 'P3HLINHE_M', 'P3HLI_HE', 'P3HLI_HE_F', 'P3HLI_HE_M', 'P5_HLI', 'P5_HLI_NHE', 'P5_HLI_HE', 'PHOG_IND', 'POB_AFRO', 'POB_AFRO_F', 'POB_AFRO_M', 'PCON_DISC', 'PCDISC_MOT', 'PCDISC_VIS', 'PCDISC_LEN', 'PCDISC_AUD', 'PCDISC_M_A', 'PCDISC_MEN', 'PCON_LIMI', 'PCLIM_CSB', 'PCLIM_VIS', 'PCLIM_HACO', 'PCLIM_OAUD', 'PCLIM_MOT2', 'PCLIM_RE_C', 'PCLIM_PMEN', 'PSIND_LIM', 'P3A5_NOA', 'P3A5_NOA_F', 'P3A5_NOA_M', 'P6A11_NOA', 'P6A11_NOAF', 'P6A11_NOAM', 'P12A14NOA', 'P12A14NOAF', 'P12A14NOAM', 'P15A17A', 'P15A17A_F', 'P15A17A_M', 'P18A24A', 'P18A24A_F', 'P18A24A_M', 'P8A14AN', 'P8A14AN_F', 'P8A14AN_M', 'P15YM_AN', 'P15YM_AN_F', 'P15YM_AN_M', 'P15YM_SE', 'P15YM_SE_F', 'P15YM_SE_M', 'P15PRI_IN', 'P15PRI_INF', 'P15PRI_INM', 'P15PRI_CO', 'P15PRI_COF', 'P15PRI_COM', 'P15SEC_IN', 'P15SEC_INF', 'P15SEC_INM', 'P15SEC_CO', 'P15SEC_COF', 'P15SEC_COM', 'P18YM_PB', 'P18YM_PB_F', 'P18YM_PB_M', 'GRAPROES', 'GRAPROES_F', 'GRAPROES_M', 'PEA', 'PEA_F', 'PEA_M', 'PE_INAC', 'PE_INAC_F', 'PE_INAC_M', 'POCUPADA', 'POCUPADA_F', 'POCUPADA_M', 'PDESOCUP', 'PDESOCUP_F', 'PDESOCUP_M', 'PSINDER', 'PDER_SS', 'PDER_IMSS', 'PDER_ISTE', 'PDER_ISTEE', 'PAFIL_PDOM', 'PDER_SEGP', 'PDER_IMSSB', 'PAFIL_IPRI', 'PAFIL_OTRA', 'P12YM_SOLT', 'P12YM_CASA', 'P12YM_SEPA', 'TOTHOG', 'HOGJEF_F', 'HOGJEF_M', 'POBHOG', 'PHOGJEF_F', 'PHOGJEF_M', 'VIVTOT', 'TVIVHAB', 'TVIVPAR', 'VIVPAR_HAB', 'VIVPARH_CV', 'TVIVPARHAB', 'VIVPAR_DES', 'VIVPAR_UT', 'OCUPVIVPAR', 'PROM_OCUP', 'PRO_OCUP_C', 'VPH_PISODT', 'VPH_PISOTI', 'VPH_1DOR', 'VPH_2YMASD', 'VPH_1CUART', 'VPH_2CUART', 'VPH_3YMASC', 'VPH_C_ELEC', 'VPH_S_ELEC', 'VPH_AGUADV', 'VPH_AEASP', 'VPH_AGUAFV', 'VPH_TINACO', 'VPH_CISTER', 'VPH_EXCSA', 'VPH_LETR', 'VPH_DRENAJ', 'VPH_NODREN', 'VPH_C_SERV', 'VPH_NDEAED', 'VPH_DSADMA', 'VPH_NDACMM', 'VPH_SNBIEN', 'VPH_REFRI', 'VPH_LAVAD', 'VPH_HMICRO', 'VPH_AUTOM', 'VPH_MOTO', 'VPH_BICI', 'VPH_RADIO', 'VPH_TV', 'VPH_PC', 'VPH_TELEF', 'VPH_CEL', 'VPH_INTER', 'VPH_STVP', 'VPH_SPMVPI', 'VPH_CVJ', 'VPH_SINRTV', 'VPH_SINLTC', 'VPH_SINCIN', 'VPH_SINTIC', 'geometry']\n",
      "\n",
      "\n"
     ]
    }
   ],
   "source": [
    "import pandas as pd\n",
    "import geopandas as gpd\n",
    "import os\n",
    "\n",
    "# Carga el archivo que ya limpiamos en la Fase 1\n",
    "RUTA_GPKG_ENTRADA = os.path.join('..', '1_datos', '02_procesados', 'gdf_maestro_manzanillo.gpkg')\n",
    "gdf = gpd.read_file(RUTA_GPKG_ENTRADA)\n",
    "\n",
    "# 1. Obtén la lista COMPLETA de todas las columnas disponibles\n",
    "print(\"--- LISTA COMPLETA DE COLUMNAS DISPONIBLES EN TUS DATOS ---\")\n",
    "lista_completa_columnas = gdf.columns.to_list()\n",
    "print(lista_completa_columnas)\n",
    "print(\"\\n\")\n"
   ]
  },
  {
   "cell_type": "code",
   "execution_count": 2,
   "id": "068c5f07-4099-493a-9ffb-8199eb509dda",
   "metadata": {},
   "outputs": [
    {
     "name": "stdout",
     "output_type": "stream",
     "text": [
      "--- ESTADÍSTICAS DESCRIPTIVAS DE VARIABLES SELECCIONADAS ---\n"
     ]
    },
    {
     "data": {
      "text/html": [
       "<div>\n",
       "<style scoped>\n",
       "    .dataframe tbody tr th:only-of-type {\n",
       "        vertical-align: middle;\n",
       "    }\n",
       "\n",
       "    .dataframe tbody tr th {\n",
       "        vertical-align: top;\n",
       "    }\n",
       "\n",
       "    .dataframe thead th {\n",
       "        text-align: right;\n",
       "    }\n",
       "</style>\n",
       "<table border=\"1\" class=\"dataframe\">\n",
       "  <thead>\n",
       "    <tr style=\"text-align: right;\">\n",
       "      <th></th>\n",
       "      <th>POBTOT</th>\n",
       "      <th>GRAPROES</th>\n",
       "      <th>PROM_OCUP</th>\n",
       "      <th>VPH_INTER</th>\n",
       "      <th>TVIVPARHAB</th>\n",
       "    </tr>\n",
       "  </thead>\n",
       "  <tbody>\n",
       "    <tr>\n",
       "      <th>count</th>\n",
       "      <td>65.000000</td>\n",
       "      <td>65.000000</td>\n",
       "      <td>65.000000</td>\n",
       "      <td>65.000000</td>\n",
       "      <td>65.000000</td>\n",
       "    </tr>\n",
       "    <tr>\n",
       "      <th>mean</th>\n",
       "      <td>1485.507692</td>\n",
       "      <td>9.313077</td>\n",
       "      <td>3.104462</td>\n",
       "      <td>232.753846</td>\n",
       "      <td>466.661538</td>\n",
       "    </tr>\n",
       "    <tr>\n",
       "      <th>std</th>\n",
       "      <td>995.654121</td>\n",
       "      <td>1.545469</td>\n",
       "      <td>0.290146</td>\n",
       "      <td>201.327860</td>\n",
       "      <td>302.986658</td>\n",
       "    </tr>\n",
       "    <tr>\n",
       "      <th>min</th>\n",
       "      <td>7.000000</td>\n",
       "      <td>6.130000</td>\n",
       "      <td>1.750000</td>\n",
       "      <td>3.000000</td>\n",
       "      <td>4.000000</td>\n",
       "    </tr>\n",
       "    <tr>\n",
       "      <th>25%</th>\n",
       "      <td>682.000000</td>\n",
       "      <td>8.400000</td>\n",
       "      <td>2.960000</td>\n",
       "      <td>112.000000</td>\n",
       "      <td>226.000000</td>\n",
       "    </tr>\n",
       "    <tr>\n",
       "      <th>50%</th>\n",
       "      <td>1216.000000</td>\n",
       "      <td>9.180000</td>\n",
       "      <td>3.150000</td>\n",
       "      <td>195.000000</td>\n",
       "      <td>388.000000</td>\n",
       "    </tr>\n",
       "    <tr>\n",
       "      <th>75%</th>\n",
       "      <td>2053.000000</td>\n",
       "      <td>10.080000</td>\n",
       "      <td>3.290000</td>\n",
       "      <td>282.000000</td>\n",
       "      <td>609.000000</td>\n",
       "    </tr>\n",
       "    <tr>\n",
       "      <th>max</th>\n",
       "      <td>5431.000000</td>\n",
       "      <td>13.270000</td>\n",
       "      <td>3.640000</td>\n",
       "      <td>1290.000000</td>\n",
       "      <td>1678.000000</td>\n",
       "    </tr>\n",
       "  </tbody>\n",
       "</table>\n",
       "</div>"
      ],
      "text/plain": [
       "            POBTOT   GRAPROES  PROM_OCUP    VPH_INTER   TVIVPARHAB\n",
       "count    65.000000  65.000000  65.000000    65.000000    65.000000\n",
       "mean   1485.507692   9.313077   3.104462   232.753846   466.661538\n",
       "std     995.654121   1.545469   0.290146   201.327860   302.986658\n",
       "min       7.000000   6.130000   1.750000     3.000000     4.000000\n",
       "25%     682.000000   8.400000   2.960000   112.000000   226.000000\n",
       "50%    1216.000000   9.180000   3.150000   195.000000   388.000000\n",
       "75%    2053.000000  10.080000   3.290000   282.000000   609.000000\n",
       "max    5431.000000  13.270000   3.640000  1290.000000  1678.000000"
      ]
     },
     "metadata": {},
     "output_type": "display_data"
    }
   ],
   "source": [
    "# 2. Obtén estadísticas descriptivas de algunas columnas que parezcan interesantes\n",
    "# Busca en la lista de arriba columnas que suenen a población, vivienda, educación, etc.\n",
    "# y pon sus nombres en la siguiente lista para explorarlas.\n",
    "columnas_a_explorar = [\n",
    "    'POBTOT',    # Probablemente Población Total\n",
    "    'GRAPROES',  # Probablemente Grado Promedio de Escolaridad\n",
    "    'PROM_OCUP', # Probablemente Promedio de Ocupantes en Viviendas\n",
    "    'VPH_INTER', # Probablemente Viviendas Particulares Habitadas con Internet\n",
    "    'TVIVPARHAB' # Probablemente Total de Viviendas Particulares Habitadas\n",
    "    # --- AÑADE AQUÍ OTRAS COLUMNAS QUE TE LLAMEN LA ATENCIÓN ---\n",
    "]\n",
    "\n",
    "# Filtramos solo las que realmente existen para evitar errores\n",
    "columnas_existentes = [col for col in columnas_a_explorar if col in gdf.columns]\n",
    "\n",
    "if columnas_existentes:\n",
    "    print(\"--- ESTADÍSTICAS DESCRIPTIVAS DE VARIABLES SELECCIONADAS ---\")\n",
    "    display(gdf[columnas_existentes].describe())\n",
    "    "
   ]
  },
  {
   "cell_type": "code",
   "execution_count": null,
   "id": "66b87ee9-a0ea-4d87-959f-340e3d0b6cd7",
   "metadata": {},
   "outputs": [],
   "source": []
  }
 ],
 "metadata": {
  "kernelspec": {
   "display_name": "Python (geo_env)",
   "language": "python",
   "name": "geo_env"
  },
  "language_info": {
   "codemirror_mode": {
    "name": "ipython",
    "version": 3
   },
   "file_extension": ".py",
   "mimetype": "text/x-python",
   "name": "python",
   "nbconvert_exporter": "python",
   "pygments_lexer": "ipython3",
   "version": "3.13.5"
  }
 },
 "nbformat": 4,
 "nbformat_minor": 5
}
